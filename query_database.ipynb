{
 "cells": [
  {
   "cell_type": "markdown",
   "metadata": {},
   "source": [
    "## Building Q&A systems of graph databases"
   ]
  },
  {
   "cell_type": "markdown",
   "metadata": {},
   "source": [
    "## Architecture\n",
    "At a high-level, the steps of most graph chains are:\n",
    "\n",
    "1. Convert question to a graph database query: Model converts user input to a graph database query (e.g. Cypher).\n",
    "2. Execute graph database query: Execute the graph database query.\n",
    "3. Answer the question: Model responds to user input using the query results.\n",
    "  "
   ]
  },
  {
   "cell_type": "markdown",
   "metadata": {},
   "source": [
    "![Alt text](https://js.langchain.com/v0.2/assets/images/graph_usecase-34d891523e6284bb6230b38c5f8392e5.png)"
   ]
  },
  {
   "cell_type": "markdown",
   "metadata": {},
   "source": [
    "## Set-up \n",
    "Installing the required libraries"
   ]
  },
  {
   "cell_type": "code",
   "execution_count": null,
   "metadata": {},
   "outputs": [],
   "source": [
    "! pip install langchain langchain-community\n",
    "! pip install langchain-openai tiktoken\n",
    "! pip install neo4j"
   ]
  },
  {
   "cell_type": "markdown",
   "metadata": {},
   "source": [
    "We default to OpenAI models in this guide."
   ]
  },
  {
   "cell_type": "code",
   "execution_count": 2,
   "metadata": {},
   "outputs": [],
   "source": [
    "import os\n",
    "from dotenv import load_dotenv\n",
    "load_dotenv()\n",
    "\n",
    "# Get the OpenAI API key\n",
    "openai_api_key = os.getenv('OPENAI_API_KEY')"
   ]
  },
  {
   "cell_type": "markdown",
   "metadata": {},
   "source": [
    "Next, we need to define Neo4j credentials."
   ]
  },
  {
   "cell_type": "code",
   "execution_count": 3,
   "metadata": {},
   "outputs": [],
   "source": [
    "import os\n",
    "os.environ[\"NEO4J_URI\"] = \"bolt://localhost:7687\"\n",
    "os.environ[\"NEO4J_USERNAME\"] = \"neo4j\"\n",
    "os.environ[\"NEO4J_PASSWORD\"] = \"Yourpassword\""
   ]
  },
  {
   "cell_type": "code",
   "execution_count": 4,
   "metadata": {},
   "outputs": [
    {
     "data": {
      "text/html": [
       "<div>\n",
       "<style scoped>\n",
       "    .dataframe tbody tr th:only-of-type {\n",
       "        vertical-align: middle;\n",
       "    }\n",
       "\n",
       "    .dataframe tbody tr th {\n",
       "        vertical-align: top;\n",
       "    }\n",
       "\n",
       "    .dataframe thead th {\n",
       "        text-align: right;\n",
       "    }\n",
       "</style>\n",
       "<table border=\"1\" class=\"dataframe\">\n",
       "  <thead>\n",
       "    <tr style=\"text-align: right;\">\n",
       "      <th></th>\n",
       "      <th>movieId</th>\n",
       "      <th>released</th>\n",
       "      <th>title</th>\n",
       "      <th>actors</th>\n",
       "      <th>director</th>\n",
       "      <th>genres</th>\n",
       "      <th>imdbRating</th>\n",
       "    </tr>\n",
       "  </thead>\n",
       "  <tbody>\n",
       "    <tr>\n",
       "      <th>0</th>\n",
       "      <td>1</td>\n",
       "      <td>1995-11-22</td>\n",
       "      <td>Toy Story</td>\n",
       "      <td>Jim Varney|Tim Allen|Tom Hanks|Don Rickles</td>\n",
       "      <td>John Lasseter</td>\n",
       "      <td>Adventure|Animation|Children|Comedy|Fantasy</td>\n",
       "      <td>8.3</td>\n",
       "    </tr>\n",
       "    <tr>\n",
       "      <th>1</th>\n",
       "      <td>2</td>\n",
       "      <td>1995-12-15</td>\n",
       "      <td>Jumanji</td>\n",
       "      <td>Robin Williams|Bradley Pierce|Kirsten Dunst|Jo...</td>\n",
       "      <td>Joe Johnston</td>\n",
       "      <td>Adventure|Children|Fantasy</td>\n",
       "      <td>6.9</td>\n",
       "    </tr>\n",
       "    <tr>\n",
       "      <th>2</th>\n",
       "      <td>3</td>\n",
       "      <td>1995-12-22</td>\n",
       "      <td>Grumpier Old Men</td>\n",
       "      <td>Walter Matthau|Ann-Margret|Jack Lemmon|Sophia ...</td>\n",
       "      <td>Howard Deutch</td>\n",
       "      <td>Comedy|Romance</td>\n",
       "      <td>6.6</td>\n",
       "    </tr>\n",
       "    <tr>\n",
       "      <th>3</th>\n",
       "      <td>4</td>\n",
       "      <td>1995-12-22</td>\n",
       "      <td>Waiting to Exhale</td>\n",
       "      <td>Whitney Houston|Lela Rochon|Angela Bassett|Lor...</td>\n",
       "      <td>Forest Whitaker</td>\n",
       "      <td>Romance|Drama|Comedy</td>\n",
       "      <td>5.6</td>\n",
       "    </tr>\n",
       "    <tr>\n",
       "      <th>4</th>\n",
       "      <td>5</td>\n",
       "      <td>1995-12-08</td>\n",
       "      <td>Father of the Bride Part II</td>\n",
       "      <td>Steve Martin|Kimberly Williams-Paisley|Diane K...</td>\n",
       "      <td>Charles Shyer</td>\n",
       "      <td>Comedy</td>\n",
       "      <td>5.9</td>\n",
       "    </tr>\n",
       "    <tr>\n",
       "      <th>5</th>\n",
       "      <td>6</td>\n",
       "      <td>1995-12-15</td>\n",
       "      <td>Heat</td>\n",
       "      <td>Al Pacino|Robert De Niro|Val Kilmer|Jon Voight</td>\n",
       "      <td>Michael Mann</td>\n",
       "      <td>Action|Crime|Thriller</td>\n",
       "      <td>8.2</td>\n",
       "    </tr>\n",
       "    <tr>\n",
       "      <th>6</th>\n",
       "      <td>7</td>\n",
       "      <td>1995-12-15</td>\n",
       "      <td>Sabrina</td>\n",
       "      <td>Julia Ormond|Harrison Ford|Nancy Marchand|Greg...</td>\n",
       "      <td>Sydney Pollack</td>\n",
       "      <td>Comedy|Romance</td>\n",
       "      <td>6.2</td>\n",
       "    </tr>\n",
       "    <tr>\n",
       "      <th>7</th>\n",
       "      <td>8</td>\n",
       "      <td>1995-12-22</td>\n",
       "      <td>Tom and Huck</td>\n",
       "      <td>Jonathan Taylor Thomas|Brad Renfro|Eric Schwei...</td>\n",
       "      <td>Peter Hewitt</td>\n",
       "      <td>Children|Adventure</td>\n",
       "      <td>5.6</td>\n",
       "    </tr>\n",
       "    <tr>\n",
       "      <th>8</th>\n",
       "      <td>9</td>\n",
       "      <td>1995-12-22</td>\n",
       "      <td>Sudden Death</td>\n",
       "      <td>Jean-Claude Van Damme|Powers Boothe|Raymond J....</td>\n",
       "      <td>Peter Hyams</td>\n",
       "      <td>Action</td>\n",
       "      <td>5.7</td>\n",
       "    </tr>\n",
       "    <tr>\n",
       "      <th>9</th>\n",
       "      <td>10</td>\n",
       "      <td>1995-11-17</td>\n",
       "      <td>GoldenEye</td>\n",
       "      <td>Pierce Brosnan|Famke Janssen|Sean Bean|Izabell...</td>\n",
       "      <td>Martin Campbell</td>\n",
       "      <td>Adventure|Action|Thriller</td>\n",
       "      <td>7.2</td>\n",
       "    </tr>\n",
       "  </tbody>\n",
       "</table>\n",
       "</div>"
      ],
      "text/plain": [
       "   movieId    released                        title  \\\n",
       "0        1  1995-11-22                    Toy Story   \n",
       "1        2  1995-12-15                      Jumanji   \n",
       "2        3  1995-12-22             Grumpier Old Men   \n",
       "3        4  1995-12-22            Waiting to Exhale   \n",
       "4        5  1995-12-08  Father of the Bride Part II   \n",
       "5        6  1995-12-15                         Heat   \n",
       "6        7  1995-12-15                      Sabrina   \n",
       "7        8  1995-12-22                 Tom and Huck   \n",
       "8        9  1995-12-22                 Sudden Death   \n",
       "9       10  1995-11-17                    GoldenEye   \n",
       "\n",
       "                                              actors         director  \\\n",
       "0         Jim Varney|Tim Allen|Tom Hanks|Don Rickles    John Lasseter   \n",
       "1  Robin Williams|Bradley Pierce|Kirsten Dunst|Jo...     Joe Johnston   \n",
       "2  Walter Matthau|Ann-Margret|Jack Lemmon|Sophia ...    Howard Deutch   \n",
       "3  Whitney Houston|Lela Rochon|Angela Bassett|Lor...  Forest Whitaker   \n",
       "4  Steve Martin|Kimberly Williams-Paisley|Diane K...    Charles Shyer   \n",
       "5     Al Pacino|Robert De Niro|Val Kilmer|Jon Voight     Michael Mann   \n",
       "6  Julia Ormond|Harrison Ford|Nancy Marchand|Greg...   Sydney Pollack   \n",
       "7  Jonathan Taylor Thomas|Brad Renfro|Eric Schwei...     Peter Hewitt   \n",
       "8  Jean-Claude Van Damme|Powers Boothe|Raymond J....      Peter Hyams   \n",
       "9  Pierce Brosnan|Famke Janssen|Sean Bean|Izabell...  Martin Campbell   \n",
       "\n",
       "                                        genres  imdbRating  \n",
       "0  Adventure|Animation|Children|Comedy|Fantasy         8.3  \n",
       "1                   Adventure|Children|Fantasy         6.9  \n",
       "2                               Comedy|Romance         6.6  \n",
       "3                         Romance|Drama|Comedy         5.6  \n",
       "4                                       Comedy         5.9  \n",
       "5                        Action|Crime|Thriller         8.2  \n",
       "6                               Comedy|Romance         6.2  \n",
       "7                           Children|Adventure         5.6  \n",
       "8                                       Action         5.7  \n",
       "9                    Adventure|Action|Thriller         7.2  "
      ]
     },
     "execution_count": 4,
     "metadata": {},
     "output_type": "execute_result"
    }
   ],
   "source": [
    "import pandas as pd\n",
    "data=pd.read_csv('https://raw.githubusercontent.com/tomasonjo/blog-datasets/main/movies/movies_small.csv')\n",
    "data.head(10)"
   ]
  },
  {
   "cell_type": "markdown",
   "metadata": {},
   "source": [
    "The below example will create a connection with a Neo4j database and will populate it with example data about movies and their actors."
   ]
  },
  {
   "cell_type": "code",
   "execution_count": 5,
   "metadata": {},
   "outputs": [
    {
     "data": {
      "text/plain": [
       "[]"
      ]
     },
     "execution_count": 5,
     "metadata": {},
     "output_type": "execute_result"
    }
   ],
   "source": [
    "from langchain_community.graphs import Neo4jGraph\n",
    "\n",
    "graph = Neo4jGraph()\n",
    "\n",
    "# Import movie information\n",
    "\n",
    "movies_query = \"\"\"\n",
    "LOAD CSV WITH HEADERS FROM \n",
    "'https://raw.githubusercontent.com/tomasonjo/blog-datasets/main/movies/movies_small.csv'\n",
    "AS row\n",
    "MERGE (m:Movie {id:row.movieId})\n",
    "SET m.released = date(row.released),\n",
    "    m.title = row.title,\n",
    "    m.imdbRating = toFloat(row.imdbRating)\n",
    "FOREACH (director in split(row.director, '|') | \n",
    "    MERGE (p:Person {name:trim(director)})\n",
    "    MERGE (p)-[:DIRECTED]->(m))\n",
    "FOREACH (actor in split(row.actors, '|') | \n",
    "    MERGE (p:Person {name:trim(actor)})\n",
    "    MERGE (p)-[:ACTED_IN]->(m))\n",
    "FOREACH (genre in split(row.genres, '|') | \n",
    "    MERGE (g:Genre {name:trim(genre)})\n",
    "    MERGE (m)-[:IN_GENRE]->(g))\n",
    "\"\"\"\n",
    "\n",
    "graph.query(movies_query)"
   ]
  },
  {
   "cell_type": "markdown",
   "metadata": {},
   "source": [
    "## Graph schema\n",
    "In order for an LLM to be able to generate a Cypher statement, it needs information about the graph schema. When you instantiate a graph object, it retrieves the information about the graph schema. If you later make any changes to the graph, you can run the refresh_schema method to refresh the schema information."
   ]
  },
  {
   "cell_type": "code",
   "execution_count": 6,
   "metadata": {},
   "outputs": [
    {
     "name": "stdout",
     "output_type": "stream",
     "text": [
      "Node properties:\n",
      "Movie {imdbRating: FLOAT, id: STRING, released: DATE, title: STRING}\n",
      "Person {name: STRING}\n",
      "Genre {name: STRING}\n",
      "Relationship properties:\n",
      "\n",
      "The relationships:\n",
      "(:Movie)-[:IN_GENRE]->(:Genre)\n",
      "(:Person)-[:DIRECTED]->(:Movie)\n",
      "(:Person)-[:ACTED_IN]->(:Movie)\n"
     ]
    }
   ],
   "source": [
    "graph.refresh_schema()\n",
    "print(graph.schema)"
   ]
  },
  {
   "cell_type": "markdown",
   "metadata": {},
   "source": [
    "## Chain\n",
    "Let's use a simple chain that takes a question, turns it into a Cypher query, executes the query, and uses the result to answer the original question.\n",
    "\n",
    "![Alt text](https://js.langchain.com/v0.2/assets/images/graph_chain-6379941793e0fa985e51e4bda0329403.webp)\n"
   ]
  },
  {
   "cell_type": "markdown",
   "metadata": {},
   "source": [
    "LangChain comes with a built-in chain for this workflow that is designed to work with Neo4j: GraphCypherQAChain"
   ]
  },
  {
   "cell_type": "code",
   "execution_count": 7,
   "metadata": {},
   "outputs": [
    {
     "name": "stdout",
     "output_type": "stream",
     "text": [
      "\n",
      "\n",
      "\u001b[1m> Entering new GraphCypherQAChain chain...\u001b[0m\n",
      "Generated Cypher:\n",
      "\u001b[32;1m\u001b[1;3mMATCH (:Movie {title: \"Casino\"})<-[:ACTED_IN]-(actor:Person)\n",
      "RETURN actor.name\u001b[0m\n",
      "Full Context:\n",
      "\u001b[32;1m\u001b[1;3m[{'actor.name': 'Sharon Stone'}, {'actor.name': 'Joe Pesci'}, {'actor.name': 'James Woods'}, {'actor.name': 'Robert De Niro'}]\u001b[0m\n",
      "\n",
      "\u001b[1m> Finished chain.\u001b[0m\n"
     ]
    },
    {
     "data": {
      "text/plain": [
       "{'query': 'What was the cast of the Casino?',\n",
       " 'result': 'The cast of Casino included Sharon Stone, Joe Pesci, James Woods, and Robert De Niro.'}"
      ]
     },
     "execution_count": 7,
     "metadata": {},
     "output_type": "execute_result"
    }
   ],
   "source": [
    "from langchain.chains import GraphCypherQAChain\n",
    "from langchain_openai import ChatOpenAI\n",
    "\n",
    "llm = ChatOpenAI(model=\"gpt-3.5-turbo\", temperature=0)\n",
    "chain = GraphCypherQAChain.from_llm(graph=graph, llm=llm, verbose=True)\n",
    "response = chain.invoke({\"query\": \"What was the cast of the Casino?\"})\n",
    "response"
   ]
  },
  {
   "cell_type": "markdown",
   "metadata": {},
   "source": [
    "## Validating relationship direction\n",
    "LLMs can struggle with relationship directions in generated Cypher statement. Since the graph schema is predefined, we can validate and optionally correct relationship directions in the generated Cypher statements by using the validate_cypher parameter."
   ]
  },
  {
   "cell_type": "code",
   "execution_count": 8,
   "metadata": {},
   "outputs": [
    {
     "name": "stdout",
     "output_type": "stream",
     "text": [
      "\n",
      "\n",
      "\u001b[1m> Entering new GraphCypherQAChain chain...\u001b[0m\n",
      "Generated Cypher:\n",
      "\u001b[32;1m\u001b[1;3mMATCH (p:Person)-[:ACTED_IN]->(m:Movie {title: \"Toy Story\"})\n",
      "RETURN p.name\u001b[0m\n",
      "Full Context:\n",
      "\u001b[32;1m\u001b[1;3m[{'p.name': 'Jim Varney'}, {'p.name': 'Tim Allen'}, {'p.name': 'Tom Hanks'}, {'p.name': 'Don Rickles'}]\u001b[0m\n",
      "\n",
      "\u001b[1m> Finished chain.\u001b[0m\n"
     ]
    },
    {
     "data": {
      "text/plain": [
       "{'query': 'What was the cast of Toy Story?',\n",
       " 'result': 'Jim Varney, Tim Allen, Tom Hanks, Don Rickles were part of the cast of Toy Story.'}"
      ]
     },
     "execution_count": 8,
     "metadata": {},
     "output_type": "execute_result"
    }
   ],
   "source": [
    "chain = GraphCypherQAChain.from_llm(\n",
    "    graph=graph, llm=llm, verbose=True, validate_cypher=True\n",
    ")\n",
    "response = chain.invoke({\"query\": \"What was the cast of Toy Story?\"})\n",
    "response"
   ]
  },
  {
   "cell_type": "code",
   "execution_count": 9,
   "metadata": {},
   "outputs": [
    {
     "name": "stdout",
     "output_type": "stream",
     "text": [
      "\n",
      "\n",
      "\u001b[1m> Entering new GraphCypherQAChain chain...\u001b[0m\n",
      "Generated Cypher:\n",
      "\u001b[32;1m\u001b[1;3mMATCH (:Movie {title: \"Toy Story\"})-[:IN_GENRE]->(g:Genre)\n",
      "RETURN g.name;\u001b[0m\n",
      "Full Context:\n",
      "\u001b[32;1m\u001b[1;3m[{'g.name': 'Adventure'}, {'g.name': 'Animation'}, {'g.name': 'Children'}, {'g.name': 'Fantasy'}, {'g.name': 'Comedy'}]\u001b[0m\n",
      "\n",
      "\u001b[1m> Finished chain.\u001b[0m\n"
     ]
    },
    {
     "data": {
      "text/plain": [
       "{'query': 'What was the Genre of Toy Story?',\n",
       " 'result': 'The genre of Toy Story was Adventure, Animation, Children, Fantasy, and Comedy.'}"
      ]
     },
     "execution_count": 9,
     "metadata": {},
     "output_type": "execute_result"
    }
   ],
   "source": [
    "chain = GraphCypherQAChain.from_llm(\n",
    "    graph=graph, llm=llm, verbose=True, validate_cypher=True\n",
    ")\n",
    "response = chain.invoke({\"query\": \"What was the Genre of Toy Story?\"})\n",
    "response"
   ]
  },
  {
   "cell_type": "code",
   "execution_count": null,
   "metadata": {},
   "outputs": [],
   "source": [
    "### End of the string"
   ]
  },
  {
   "cell_type": "code",
   "execution_count": null,
   "metadata": {},
   "outputs": [],
   "source": [
    "#end of the Document"
   ]
  }
 ],
 "metadata": {
  "kernelspec": {
   "display_name": "Python 3",
   "language": "python",
   "name": "python3"
  },
  "language_info": {
   "codemirror_mode": {
    "name": "ipython",
    "version": 3
   },
   "file_extension": ".py",
   "mimetype": "text/x-python",
   "name": "python",
   "nbconvert_exporter": "python",
   "pygments_lexer": "ipython3",
   "version": "3.10.5"
  }
 },
 "nbformat": 4,
 "nbformat_minor": 2
}
